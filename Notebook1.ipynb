{
 "cells": [
  {
   "cell_type": "code",
   "execution_count": null,
   "id": "9d0ba219-3d74-4413-a248-1b8d20b41a17",
   "metadata": {
    "id": "34c9dbe5-6e0c-4fdc-9659-fc273d64120c",
    "tags": []
   },
   "outputs": [],
   "source": [
    "Hello world, this is Notebook 1"
   ]
  },
  {
   "cell_type": "code",
   "execution_count": null,
   "id": "1d0d082c-5886-4992-9033-79614886df55",
   "metadata": {
    "id": "1d0d082c-5886-4992-9033-79614886df55"
   },
   "outputs": [],
   "source": [
    "Hello this is a collaborator "
   ]
  }
 ],
 "metadata": {
  "kernelspec": {
   "display_name": "Python 3.9",
   "language": "python",
   "name": "python3"
  },
  "language_info": {
   "codemirror_mode": {
    "name": "ipython",
    "version": 3
   },
   "file_extension": ".py",
   "mimetype": "text/x-python",
   "name": "python",
   "nbconvert_exporter": "python",
   "pygments_lexer": "ipython3",
   "version": "3.9.7"
  }
 },
 "nbformat": 4,
 "nbformat_minor": 5
}
