{
 "cells": [
  {
   "cell_type": "code",
   "execution_count": null,
   "id": "af0d3b62-bd6d-4cfb-a46e-2b243eb9a5e3",
   "metadata": {
    "id": "159d8818-bfd7-4b1a-80e4-06db5335fa1a",
    "tags": []
   },
   "outputs": [],
   "source": [
    "Hello world, this is notebook 2"
   ]
  }
 ],
 "metadata": {
  "kernelspec": {
   "display_name": "Python 3.9",
   "language": "python",
   "name": "python3"
  },
  "language_info": {
   "codemirror_mode": {
    "name": "ipython",
    "version": 3
   },
   "file_extension": ".py",
   "mimetype": "text/x-python",
   "name": "python",
   "nbconvert_exporter": "python",
   "pygments_lexer": "ipython3",
   "version": "3.9.7"
  }
 },
 "nbformat": 4,
 "nbformat_minor": 5
}
